{
 "cells": [
  {
   "cell_type": "code",
   "execution_count": 2,
   "metadata": {},
   "outputs": [
    {
     "name": "stderr",
     "output_type": "stream",
     "text": [
      "/home/cc/.local/lib/python3.8/site-packages/tqdm/auto.py:21: TqdmWarning: IProgress not found. Please update jupyter and ipywidgets. See https://ipywidgets.readthedocs.io/en/stable/user_install.html\n",
      "  from .autonotebook import tqdm as notebook_tqdm\n"
     ]
    }
   ],
   "source": [
    "import os\n",
    "import re\n",
    "import pandas as pd\n",
    "import matplotlib.pyplot as plt\n",
    "\n",
    "import torch\n",
    "import torch.nn as nn\n",
    "\n",
    "from tqdm import tqdm\n",
    "from transformers import BertModel, BertTokenizer"
   ]
  },
  {
   "cell_type": "code",
   "execution_count": 7,
   "metadata": {},
   "outputs": [
    {
     "name": "stdout",
     "output_type": "stream",
     "text": [
      "   class                                              tweet\n",
      "0      1  &#8220;: LMAOOO I find this shit so funny y'al...\n",
      "1      1  This bitch compared dicks to pencils get sharp...\n",
      "2      1  : 'You'd rather live with trash,, than make it...\n",
      "3      1   whats good then bitch Ass nigga catch your phase\n",
      "4      1  Gresham Road Soldier BoulderCrest Soldier and ...\n"
     ]
    }
   ],
   "source": [
    "def preprocess(text_string):\n",
    "    space_pattern = '\\s+'\n",
    "    giant_url_regex = ('http[s]?://(?:[a-zA-Z]|[0-9]|[$-_@.&+]|'\n",
    "        '[!*\\(\\),]|(?:%[0-9a-fA-F][0-9a-fA-F]))+')\n",
    "    mention_regex = '@[\\w\\-]+'\n",
    "    parsed_text = re.sub(space_pattern, ' ', text_string)\n",
    "    parsed_text = re.sub(giant_url_regex, '', parsed_text)\n",
    "    parsed_text = re.sub(mention_regex, '', parsed_text)\n",
    "    parsed_text = parsed_text.replace(\"\\t\", \"\")\n",
    "    parsed_text = parsed_text.replace(\"!\", \"\")\n",
    "    parsed_text = parsed_text.replace(\" RT : \", \"\")\n",
    "    parsed_text = parsed_text.replace(\"RT \", \"\")\n",
    "    parsed_text = parsed_text.strip()\n",
    "    return parsed_text\n",
    "\n",
    "\n",
    "dataset_path = \"./hate-speech-and-offensive-language/data/labeled_data.csv\"\n",
    "all_df = pd.read_csv(dataset_path)\n",
    "for label in [\"Unnamed: 0\", \"count\", \"hate_speech\", \"offensive_language\", \"neither\"]:\n",
    "    del all_df[label]\n",
    "all_df.tweet = all_df.tweet.apply(preprocess)\n",
    "all_df = all_df.sample(frac=1).reset_index(drop=True)\n",
    "\n",
    "print(all_df.head())\n",
    "\n",
    "train_limit = int(len(all_df) * 0.8)\n",
    "train_df, test_df = all_df[:train_limit], all_df[train_limit:]\n",
    "\n",
    "#train_df = train_df[:1000]\n",
    "#test_df = test_df[:1000]"
   ]
  },
  {
   "cell_type": "code",
   "execution_count": 11,
   "metadata": {},
   "outputs": [
    {
     "name": "stderr",
     "output_type": "stream",
     "text": [
      "Some weights of the model checkpoint at bert-base-cased were not used when initializing BertModel: ['cls.predictions.transform.dense.bias', 'cls.seq_relationship.weight', 'cls.predictions.transform.dense.weight', 'cls.predictions.transform.LayerNorm.bias', 'cls.seq_relationship.bias', 'cls.predictions.transform.LayerNorm.weight', 'cls.predictions.bias', 'cls.predictions.decoder.weight']\n",
      "- This IS expected if you are initializing BertModel from the checkpoint of a model trained on another task or with another architecture (e.g. initializing a BertForSequenceClassification model from a BertForPreTraining model).\n",
      "- This IS NOT expected if you are initializing BertModel from the checkpoint of a model that you expect to be exactly identical (initializing a BertForSequenceClassification model from a BertForSequenceClassification model).\n"
     ]
    }
   ],
   "source": [
    "class Model(nn.Module):\n",
    "    def __init__(self, dropout=0.5):\n",
    "        super(Model, self).__init__()\n",
    "\n",
    "        self.bert = BertModel.from_pretrained('bert-base-cased', torchscript=True)\n",
    "        self.dropout = nn.Dropout(dropout)\n",
    "        self.linear = nn.Linear(768, 3)\n",
    "        self.relu = nn.ReLU()\n",
    "\n",
    "    def forward(self, input_id, mask):\n",
    "        _, x = self.bert(input_ids= input_id, attention_mask=mask,return_dict=False)\n",
    "        x = self.dropout(x)\n",
    "        x = self.linear(x)\n",
    "        x = self.relu(x)\n",
    "        return x\n",
    "\n",
    "\n",
    "model = Model()\n",
    "tokenizer = BertTokenizer.from_pretrained('bert-base-cased', torchscript=True)\n",
    "\n",
    "vocab_file = open(\"bert_cased_vocab.txt\", \"w\")\n",
    "for i, j in tokenizer.get_vocab().items():\n",
    "    vocab_file.write(f\"{i} {j}\\n\")\n",
    "vocab_file.close()"
   ]
  },
  {
   "cell_type": "code",
   "execution_count": 14,
   "metadata": {},
   "outputs": [],
   "source": [
    "class Dataset(torch.utils.data.Dataset):\n",
    "    def __init__(self, df):\n",
    "        self.df = df\n",
    "\n",
    "    def __len__(self):\n",
    "        return len(self.df)\n",
    "\n",
    "    def __getitem__(self, idx):\n",
    "        sample = self.df.iloc[idx]\n",
    "\n",
    "        text = tokenizer(sample.tweet, padding='max_length', max_length = 32, truncation=True, return_tensors=\"pt\")\n",
    "        label = sample[\"class\"]\n",
    "\n",
    "        return text, label\n",
    "\n",
    "\n",
    "train_dataset = Dataset(train_df)\n",
    "test_dataset = Dataset(test_df)\n",
    "\n",
    "datasets = dict()\n",
    "datasets[\"train\"] = train_dataset\n",
    "datasets[\"test\"] = test_dataset\n",
    "\n",
    "train_dataloader = torch.utils.data.DataLoader(train_dataset, batch_size=16, shuffle=True)\n",
    "test_dataloader = torch.utils.data.DataLoader(test_dataset, batch_size=64, shuffle=False)\n",
    "\n",
    "dataloaders = dict()\n",
    "dataloaders[\"train\"] = train_dataloader\n",
    "dataloaders[\"test\"] = test_dataloader"
   ]
  },
  {
   "cell_type": "code",
   "execution_count": 17,
   "metadata": {},
   "outputs": [],
   "source": [
    "device = torch.device(\"cpu\")\n",
    "\n",
    "model.to(device)\n",
    "criterion = nn.CrossEntropyLoss().to(device)\n",
    "optimizer = torch.optim.Adam(model.parameters(), lr= 1e-6)"
   ]
  },
  {
   "cell_type": "code",
   "execution_count": 18,
   "metadata": {},
   "outputs": [
    {
     "name": "stderr",
     "output_type": "stream",
     "text": [
      "train: 100%|██████████| 1240/1240 [08:21<00:00,  2.47it/s]\n",
      "test: 100%|██████████| 78/78 [00:26<00:00,  2.93it/s]\n"
     ]
    },
    {
     "name": "stdout",
     "output_type": "stream",
     "text": [
      "{'train': [0.03845706218033413], 'test': [0.006317730828449325]}\n",
      "{'train': [0.7688388984162211], 'test': [0.8638289287875731]}\n"
     ]
    },
    {
     "name": "stderr",
     "output_type": "stream",
     "text": [
      "train: 100%|██████████| 1240/1240 [07:45<00:00,  2.66it/s]\n",
      "test: 100%|██████████| 78/78 [00:28<00:00,  2.76it/s]\n"
     ]
    },
    {
     "name": "stdout",
     "output_type": "stream",
     "text": [
      "{'train': [0.03845706218033413, 0.02499850144806915], 'test': [0.006317730828449325, 0.005404375341719188]}\n",
      "{'train': [0.7688388984162211, 0.8659336225158882], 'test': [0.8638289287875731, 0.8908614081097438]}\n"
     ]
    },
    {
     "name": "stderr",
     "output_type": "stream",
     "text": [
      "train: 100%|██████████| 1240/1240 [07:45<00:00,  2.66it/s]\n",
      "test: 100%|██████████| 78/78 [00:28<00:00,  2.74it/s]\n"
     ]
    },
    {
     "name": "stdout",
     "output_type": "stream",
     "text": [
      "{'train': [0.03845706218033413, 0.02499850144806915, 0.021727567032606393], 'test': [0.006317730828449325, 0.005404375341719188, 0.00486207009413946]}\n",
      "{'train': [0.7688388984162211, 0.8659336225158882, 0.8899424997478059], 'test': [0.8638289287875731, 0.8908614081097438, 0.8957030461972968]}\n"
     ]
    },
    {
     "name": "stderr",
     "output_type": "stream",
     "text": [
      "train: 100%|██████████| 1240/1240 [06:52<00:00,  3.01it/s]\n",
      "test: 100%|██████████| 78/78 [00:19<00:00,  4.09it/s]\n"
     ]
    },
    {
     "name": "stdout",
     "output_type": "stream",
     "text": [
      "{'train': [0.03845706218033413, 0.02499850144806915, 0.021727567032606393, 0.019281102974795676], 'test': [0.006317730828449325, 0.005404375341719188, 0.00486207009413946, 0.00457659920022592]}\n",
      "{'train': [0.7688388984162211, 0.8659336225158882, 0.8899424997478059, 0.8983657823060628], 'test': [0.8638289287875731, 0.8908614081097438, 0.8957030461972968, 0.8967117207988703]}\n"
     ]
    },
    {
     "name": "stderr",
     "output_type": "stream",
     "text": [
      "train: 100%|██████████| 1240/1240 [06:11<00:00,  3.34it/s]\n",
      "test: 100%|██████████| 78/78 [00:19<00:00,  4.07it/s]"
     ]
    },
    {
     "name": "stdout",
     "output_type": "stream",
     "text": [
      "{'train': [0.03845706218033413, 0.02499850144806915, 0.021727567032606393, 0.019281102974795676, 0.018046452941835787], 'test': [0.006317730828449325, 0.005404375341719188, 0.00486207009413946, 0.00457659920022592, 0.0044428449795206205]}\n",
      "{'train': [0.7688388984162211, 0.8659336225158882, 0.8899424997478059, 0.8983657823060628, 0.9041662463431858], 'test': [0.8638289287875731, 0.8908614081097438, 0.8957030461972968, 0.8967117207988703, 0.896913455719185]}\n"
     ]
    },
    {
     "name": "stderr",
     "output_type": "stream",
     "text": [
      "\n"
     ]
    }
   ],
   "source": [
    "epochs = 1\n",
    "\n",
    "losses = {\"train\": [], \"test\": []}\n",
    "accuracies = {\"train\": [], \"test\": []}\n",
    "\n",
    "for epoch_num in range(epochs):\n",
    "    for phase in [\"train\", \"test\"]:\n",
    "\n",
    "        if phase == \"train\":\n",
    "            model.train()\n",
    "        else:\n",
    "            model.eval()\n",
    "\n",
    "        total_loss, total_acc = 0, 0\n",
    "        for batch_input, batch_label in tqdm(dataloaders[phase], desc=phase):\n",
    "            batch_label = batch_label.to(device)\n",
    "            batch_attention_mask = batch_input['attention_mask'].to(device)\n",
    "            batch_input_ids = batch_input['input_ids'].squeeze(1).to(device)\n",
    "\n",
    "            output = model(batch_input_ids, batch_attention_mask)\n",
    "        \n",
    "            batch_loss = criterion(output, batch_label.long())\n",
    "            total_loss += batch_loss.item()\n",
    "            total_acc += (output.argmax(dim=1) == batch_label).sum().item()\n",
    "\n",
    "            if phase == \"train\":\n",
    "                model.zero_grad()\n",
    "                batch_loss.backward()\n",
    "                optimizer.step()\n",
    "        \n",
    "        losses[phase].append(total_loss / len(datasets[phase]))\n",
    "        accuracies[phase].append(total_acc / len(datasets[phase]))\n",
    "\n",
    "    print(losses)\n",
    "    print(accuracies)"
   ]
  },
  {
   "cell_type": "code",
   "execution_count": 23,
   "metadata": {},
   "outputs": [
    {
     "data": {
      "image/png": "[encoded data removed]",
      "text/plain": [
       "<Figure size 640x480 with 1 Axes>"
      ]
     },
     "metadata": {},
     "output_type": "display_data"
    },
    {
     "data": {
      "image/png": "[encoded data removed]",
      "text/plain": [
       "<Figure size 640x480 with 1 Axes>"
      ]
     },
     "metadata": {},
     "output_type": "display_data"
    }
   ],
   "source": [
    "plt.plot(range(epochs), losses[\"train\"], label=\"train loss\")\n",
    "plt.plot(range(epochs), losses[\"test\"], label=\"test loss\")\n",
    "plt.legend()\n",
    "plt.show()\n",
    "\n",
    "plt.plot(range(epochs), accuracies[\"train\"], label=\"train accuracy\")\n",
    "plt.plot(range(epochs), accuracies[\"test\"], label=\"test accuracy\")\n",
    "plt.legend()\n",
    "plt.show()"
   ]
  },
  {
   "cell_type": "code",
   "execution_count": 24,
   "metadata": {},
   "outputs": [],
   "source": [
    "model.eval()\n",
    "model = model.to(\"cpu\")\n",
    "\n",
    "sample_input_id, sample_label = next(iter(test_dataloader))\n",
    "\n",
    "sample_label = sample_label.to(\"cpu\")\n",
    "sample_mask = sample_input_id['attention_mask'].to(\"cpu\")\n",
    "sample_input_id = sample_input_id['input_ids'].squeeze(1).to(\"cpu\")\n",
    "\n",
    "traced_script_module = torch.jit.trace(model.cpu(), [sample_input_id, sample_mask])\n",
    "traced_script_module.save(\"traced_text_classification_model.pt\")"
   ]
  },
  {
   "cell_type": "code",
   "execution_count": 25,
   "metadata": {},
   "outputs": [],
   "source": [
    "example = \"Moreno be a little bitch . You dumb bitch .\"\n",
    "\n",
    "tokenizer_out = tokenizer(example, padding='max_length', max_length = 32, truncation=True, return_tensors=\"pt\")\n",
    "input_ids = tokenizer_out[\"input_ids\"]\n",
    "attention_mask = tokenizer_out[\"attention_mask\"]\n",
    "\n",
    "preds = model(input_ids, attention_mask)"
   ]
  },
  {
   "cell_type": "code",
   "execution_count": 26,
   "metadata": {},
   "outputs": [
    {
     "data": {
      "text/plain": [
       "tensor([[1.5776, 5.3970, 0.0000]], grad_fn=<ReluBackward0>)"
      ]
     },
     "execution_count": 26,
     "metadata": {},
     "output_type": "execute_result"
    }
   ],
   "source": [
    "preds"
   ]
  },
  {
   "cell_type": "code",
   "execution_count": null,
   "metadata": {},
   "outputs": [],
   "source": []
  }
 ],
 "metadata": {
  "kernelspec": {
   "display_name": "Python 3.9.2 ('MaskCycleGAN-VC')",
   "language": "python",
   "name": "python3"
  },
  "language_info": {
   "codemirror_mode": {
    "name": "ipython",
    "version": 3
   },
   "file_extension": ".py",
   "mimetype": "text/x-python",
   "name": "python",
   "nbconvert_exporter": "python",
   "pygments_lexer": "ipython3",
   "version": "3.8.10"
  },
  "orig_nbformat": 4,
  "vscode": {
   "interpreter": {
    "hash": "1fe4634e00f77d7f0b4d2bf4f8013dd97fa38f498f1053abf04f7fa402fd3d00"
   }
  }
 },
 "nbformat": 4,
 "nbformat_minor": 2
}
